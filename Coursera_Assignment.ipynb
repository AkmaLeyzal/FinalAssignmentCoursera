{
  "nbformat": 4,
  "nbformat_minor": 0,
  "metadata": {
    "colab": {
      "provenance": []
    },
    "kernelspec": {
      "name": "python3",
      "display_name": "Python 3"
    },
    "language_info": {
      "name": "python"
    }
  },
  "cells": [
    {
      "cell_type": "markdown",
      "source": [
        "# **Final Assignment Tools for Data Science**"
      ],
      "metadata": {
        "id": "YRWWKbnGxmr_"
      }
    },
    {
      "cell_type": "markdown",
      "source": [
        "**Hi my name is Akmal Rizal, i'm from indonesia, i'm undergraduate at State University of Surabay major in Data Science**"
      ],
      "metadata": {
        "id": "fEw62GV2yDg-"
      }
    },
    {
      "cell_type": "markdown",
      "source": [
        "data science languages\n",
        "- Python\n",
        "- R"
      ],
      "metadata": {
        "id": "jY8Wy9p_ybkN"
      }
    },
    {
      "cell_type": "markdown",
      "source": [
        "data science libraries\n",
        "- numpy\n",
        "- pandas\n",
        "- matplotlib\n",
        "- scikit learn\n",
        "- pytorch\n",
        "- tensorflow\n",
        "- keras"
      ],
      "metadata": {
        "id": "XpmlTD46yjVH"
      }
    },
    {
      "cell_type": "markdown",
      "source": [
        "Data Science Tools\n",
        "\n",
        "| Tool | Category | Primary Language(s) | Key Feature |\n",
        "| :--- | :--- | :--- | :--- |\n",
        "| **Jupyter Notebook/Lab** | Interactive Environment | Python, R, Julia | Cell-based coding for exploratory analysis. |\n",
        "| **RStudio** | IDE | R | The premier environment for statistical computing with R. |\n",
        "| **VS Code** | Code Editor | Python, R, SQL, etc. | A versatile editor with powerful data science extensions. |\n",
        "| **Pandas** | Library | Python | High-performance data manipulation and analysis (DataFrames). |\n",
        "| **NumPy** | Library | Python | Fundamental package for numerical computing (arrays). |\n",
        "| **Scikit-learn** | Library | Python | Go-to library for classical machine learning algorithms. |\n",
        "| **TensorFlow & PyTorch** | Library | Python | Leading frameworks for deep learning and neural networks. |\n",
        "| **Matplotlib & Seaborn** | Library | Python | Widely used libraries for data visualization. |\n",
        "| **ggplot2** | Library | R | Advanced and declarative data visualization. |\n",
        "| **Apache Spark** | Big Data Framework | Scala, Python, R | Engine for large-scale, distributed data processing. |\n",
        "| **SQL** | Language | N/A | The standard language for managing and querying relational databases. |\n",
        "| **Git & GitHub** | Version Control | Language Agnostic | Essential for tracking changes and collaborating on code. |"
      ],
      "metadata": {
        "id": "ZLhAzs5ozLge"
      }
    },
    {
      "cell_type": "markdown",
      "source": [
        "### Examples of Arithmetic Expressions\n",
        "\n",
        "This cell demonstrates some basic arithmetic expressions and their operators. These are fundamental building blocks for performing calculations.\n",
        "\n",
        "| Operator | Operation | Example | Result |\n",
        "| :--- | :--- | :--- | :--- |\n",
        "| `+` | Addition | `5 + 3` | `8` |\n",
        "| `-` | Subtraction | `10 - 4` | `6` |\n",
        "| `*` | Multiplication | `7 * 6` | `42` |\n",
        "| `/` | Division | `20 / 5` | `4` |\n",
        "| `**` | Exponentiation | `2 ** 4` | `16` |\n",
        "| `%` | Modulo (Remainder) | `10 % 3` | `1` |\n",
        "| `//` | Floor Division | `10 // 3` | `3` |\n"
      ],
      "metadata": {
        "id": "Qmc-WSvvzh79"
      }
    },
    {
      "cell_type": "code",
      "source": [
        "# Multiply and add numbers\n",
        "result = 10 * 5 + 7\n",
        "print(result)"
      ],
      "metadata": {
        "colab": {
          "base_uri": "https://localhost:8080/"
        },
        "id": "IaQ7pc-szuHt",
        "outputId": "02806921-1476-4587-ebb9-1bf3268404c1"
      },
      "execution_count": 2,
      "outputs": [
        {
          "output_type": "stream",
          "name": "stdout",
          "text": [
            "57\n"
          ]
        }
      ]
    },
    {
      "cell_type": "code",
      "execution_count": 3,
      "metadata": {
        "colab": {
          "base_uri": "https://localhost:8080/"
        },
        "id": "D4DM0D2ZxhpJ",
        "outputId": "76898402-6ce7-4d06-a733-b32b7fcac802"
      },
      "outputs": [
        {
          "output_type": "stream",
          "name": "stdout",
          "text": [
            "150 minutes is equal to 2.5 hours.\n"
          ]
        }
      ],
      "source": [
        "# Convert minute to hour\n",
        "minutes = 150\n",
        "\n",
        "hours = minutes / 60\n",
        "print(f\"{minutes} minutes is equal to {hours} hours.\")"
      ]
    },
    {
      "cell_type": "markdown",
      "source": [
        "## Objectives\n",
        "\n",
        "After completing this lab, you will be able to:\n",
        "\n",
        "* Create and format content in a **markdown cell**.\n",
        "* Create and execute a **code cell**.\n",
        "* Perform basic **arithmetic operations** in Python.\n",
        "* Share your notebook with others using various formats."
      ],
      "metadata": {
        "id": "HJ8C0E_g0ZkA"
      }
    },
    {
      "cell_type": "markdown",
      "source": [
        "### **Author**\n",
        "**Akmal Rizal**"
      ],
      "metadata": {
        "id": "kkxNsKw10h2H"
      }
    }
  ]
}